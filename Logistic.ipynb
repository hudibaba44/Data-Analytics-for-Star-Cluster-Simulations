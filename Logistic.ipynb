{
 "cells": [
  {
   "cell_type": "code",
   "execution_count": 20,
   "metadata": {},
   "outputs": [],
   "source": [
    "import os\n",
    "import matplotlib.pyplot as plt\n",
    "from sklearn.svm import LinearSVR\n",
    "import pandas as pd\n",
    "import numpy as np\n",
    "from sklearn import svm\n",
    "os.chdir('/home/neelesh/data-analytics-for-star-cluster-simulations')\n",
    "df1=pd.read_csv(\"Dataset/c_0000.csv\")\n",
    "df2=pd.read_csv(\"Dataset/c_0100.csv\")\n",
    "df3=pd.read_csv(\"Dataset/c_0200.csv\")\n",
    "df4=pd.read_csv(\"Dataset/c_0300.csv\")\n",
    "df5=pd.read_csv(\"Dataset/c_0400.csv\")\n",
    "df6=pd.read_csv(\"Dataset/c_0500.csv\")\n",
    "df7=pd.read_csv(\"Dataset/c_0600.csv\")\n",
    "df8=pd.read_csv(\"Dataset/c_0700.csv\")\n",
    "df9=pd.read_csv(\"Dataset/c_0800.csv\")\n",
    "df10=pd.read_csv(\"Dataset/c_0900.csv\")\n",
    "df11=pd.read_csv(\"Dataset/c_1000.csv\")\n",
    "df12=pd.read_csv(\"Dataset/c_1100.csv\")\n",
    "df13=pd.read_csv(\"Dataset/c_1200.csv\")\n",
    "df14=pd.read_csv(\"Dataset/c_1300.csv\")\n",
    "df15=pd.read_csv(\"Dataset/c_1400.csv\")\n",
    "df16=pd.read_csv(\"Dataset/c_1500.csv\")\n",
    "df17=pd.read_csv(\"Dataset/c_1600.csv\")\n",
    "df18=pd.read_csv(\"Dataset/c_1700.csv\")\n",
    "df19=pd.read_csv(\"Dataset/c_1800.csv\")\n",
    "# print(\"1\")"
   ]
  },
  {
   "cell_type": "code",
   "execution_count": 21,
   "metadata": {},
   "outputs": [],
   "source": [
    "df19.columns\n",
    "distance_difference=[]\n",
    "distance_difference.append([(df1['x'][i]**2+df1['y'][i]**2+df1['z'][i]**2)**0.5 for i in range(len(df1))])\n",
    "distance_difference.append([(df2['x'][i]**2+df2['y'][i]**2+df2['z'][i]**2)**0.5 for i in range(len(df2))])\n",
    "distance_difference.append([(df3['x'][i]**2+df3['y'][i]**2+df3['z'][i]**2)**0.5 for i in range(len(df3))])\n",
    "distance_difference.append([(df4['x'][i]**2+df4['y'][i]**2+df4['z'][i]**2)**0.5 for i in range(len(df4))])\n",
    "distance_difference.append([(df5['x'][i]**2+df5['y'][i]**2+df5['z'][i]**2)**0.5 for i in range(len(df5))])\n",
    "distance_difference.append([(df6['x'][i]**2+df6['y'][i]**2+df6['z'][i]**2)**0.5 for i in range(len(df6))])\n",
    "distance_difference.append([(df7['x'][i]**2+df7['y'][i]**2+df7['z'][i]**2)**0.5 for i in range(len(df7))])\n",
    "distance_difference.append([(df8['x'][i]**2+df8['y'][i]**2+df8['z'][i]**2)**0.5 for i in range(len(df8))])\n",
    "distance_difference.append([(df9['x'][i]**2+df9['y'][i]**2+df9['z'][i]**2)**0.5 for i in range(len(df9))])\n",
    "distance_difference.append([(df10['x'][i]**2+df10['y'][i]**2+df10['z'][i]**2)**0.5 for i in range(len(df10))])\n",
    "distance_difference.append([(df11['x'][i]**2+df11['y'][i]**2+df11['z'][i]**2)**0.5 for i in range(len(df11))])\n",
    "distance_difference.append([(df12['x'][i]**2+df12['y'][i]**2+df12['z'][i]**2)**0.5 for i in range(len(df12))])\n",
    "distance_difference.append([(df13['x'][i]**2+df13['y'][i]**2+df13['z'][i]**2)**0.5 for i in range(len(df13))])\n",
    "distance_difference.append([(df14['x'][i]**2+df14['y'][i]**2+df14['z'][i]**2)**0.5 for i in range(len(df14))])\n",
    "distance_difference.append([(df15['x'][i]**2+df15['y'][i]**2+df15['z'][i]**2)**0.5 for i in range(len(df15))])\n",
    "distance_difference.append([(df16['x'][i]**2+df16['y'][i]**2+df16['z'][i]**2)**0.5 for i in range(len(df16))])\n",
    "distance_difference.append([(df17['x'][i]**2+df17['y'][i]**2+df17['z'][i]**2)**0.5 for i in range(len(df17))])\n",
    "distance_difference.append([(df18['x'][i]**2+df18['y'][i]**2+df18['z'][i]**2)**0.5 for i in range(len(df18))])\n",
    "distance_difference.append([(df19['x'][i]**2+df19['y'][i]**2+df19['z'][i]**2)**0.5 for i in range(len(df19))])\n",
    "\n",
    "# print(\"2\")"
   ]
  },
  {
   "cell_type": "code",
   "execution_count": 22,
   "metadata": {
    "collapsed": true
   },
   "outputs": [],
   "source": [
    "def mad_based_outlier(points, thresh=3.5):\n",
    "    if len(points.shape) == 1:\n",
    "        points = points[:,None]\n",
    "    median = np.median(points, axis=0)\n",
    "    diff = np.sum((points - median)**2, axis=-1)\n",
    "    diff = np.sqrt(diff)\n",
    "    med_abs_deviation = np.median(diff)\n",
    "\n",
    "    modified_z_score = 0.6745 * diff / med_abs_deviation\n",
    "\n",
    "    return modified_z_score > thresh\n",
    "a=mad_based_outlier(np.array(distance_difference[0]))"
   ]
  },
  {
   "cell_type": "code",
   "execution_count": 23,
   "metadata": {
    "collapsed": true
   },
   "outputs": [],
   "source": [
    "complete_dist=[]\n",
    "complete_id=[]\n",
    "complete_id+=list(df1['id'])+list(df2['id'])+list(df3['id'])+list(df4['id'])+list(df5['id'])+list(df6['id'])+list(df7['id'])+list(df8['id'])+list(df9['id'])+list(df10['id'])+list(df11['id'])+list(df12['id'])+list(df13['id'])+list(df14['id'])+list(df15['id'])+list(df16['id'])+list(df17['id'])+list(df18['id'])\n",
    "#+list(df19['id'])\n",
    "for i in range(18):\n",
    "    complete_dist+=distance_difference[i]"
   ]
  },
  {
   "cell_type": "code",
   "execution_count": 24,
   "metadata": {},
   "outputs": [],
   "source": [
    "a=mad_based_outlier(np.array(complete_dist))\n",
    "y_test=mad_based_outlier(np.array(distance_difference[-1]))\n",
    "# print(\"3\")"
   ]
  },
  {
   "cell_type": "code",
   "execution_count": 25,
   "metadata": {
    "collapsed": true
   },
   "outputs": [],
   "source": [
    "a\n",
    "y=[]\n",
    "for i in a:\n",
    "    if(i==False):\n",
    "        y.append(0)\n",
    "    else:\n",
    "        y.append(1)\n",
    "y=np.array(y)"
   ]
  },
  {
   "cell_type": "code",
   "execution_count": 26,
   "metadata": {},
   "outputs": [],
   "source": [
    "X=[[complete_dist[i],complete_id[i]] for i in range(len(complete_dist))]\n",
    "x_test=[[distance_difference[-1][i],df19['id'][i]] for i in range(len(df19))]\n",
    "X=np.array(X)\n",
    "std=np.std(distance_difference[0])\n",
    "\n"
   ]
  },
  {
   "cell_type": "code",
   "execution_count": 27,
   "metadata": {},
   "outputs": [
    {
     "data": {
      "text/plain": [
       "LogisticRegression(C=1.0, class_weight=None, dual=False, fit_intercept=True,\n",
       "          intercept_scaling=1, max_iter=100, multi_class='multinomial',\n",
       "          n_jobs=1, penalty='l2', random_state=0, solver='lbfgs',\n",
       "          tol=0.0001, verbose=0, warm_start=False)"
      ]
     },
     "execution_count": 27,
     "metadata": {},
     "output_type": "execute_result"
    }
   ],
   "source": [
    "from sklearn.linear_model import LogisticRegression\n",
    "\n",
    "model1=LogisticRegression(random_state=0, solver='lbfgs',multi_class='multinomial')\n",
    "\n",
    "model1.fit(X,y)\n",
    "\n"
   ]
  },
  {
   "cell_type": "code",
   "execution_count": 28,
   "metadata": {},
   "outputs": [
    {
     "data": {
      "text/plain": [
       "0.99998523977550569"
      ]
     },
     "execution_count": 28,
     "metadata": {},
     "output_type": "execute_result"
    }
   ],
   "source": [
    "model1.score(X,np.array(a))"
   ]
  },
  {
   "cell_type": "code",
   "execution_count": 29,
   "metadata": {
    "collapsed": true
   },
   "outputs": [],
   "source": [
    "p=model1.predict(x_test)"
   ]
  },
  {
   "cell_type": "code",
   "execution_count": 30,
   "metadata": {
    "collapsed": true
   },
   "outputs": [],
   "source": [
    "count=0\n",
    "for i in p:\n",
    "    if(i>0.5):\n",
    "        count+=1"
   ]
  },
  {
   "cell_type": "code",
   "execution_count": 31,
   "metadata": {
    "collapsed": true
   },
   "outputs": [],
   "source": [
    "p2=model1.predict(X)\n",
    "yt=[]\n",
    "for i in y_test:\n",
    "    if(i==False):\n",
    "        yt.append(0)\n",
    "    else:\n",
    "        yt.append(1)\n",
    "yt=np.array(yt)"
   ]
  },
  {
   "cell_type": "code",
   "execution_count": 34,
   "metadata": {},
   "outputs": [
    {
     "name": "stdout",
     "output_type": "stream",
     "text": [
      "Training Accuracy: 99.9985239776\n",
      "Testing Accuracy: 99.6263873691\n"
     ]
    }
   ],
   "source": [
    "from sklearn.metrics import accuracy_score\n",
    "\n",
    "print('Training Accuracy:',100*accuracy_score(y,p2.round()))\n",
    "print('Testing Accuracy:',100*accuracy_score(yt,p.round()))"
   ]
  },
  {
   "cell_type": "code",
   "execution_count": 33,
   "metadata": {},
   "outputs": [
    {
     "data": {
      "text/plain": [
       "array([0, 0, 0, ..., 0, 0, 0])"
      ]
     },
     "execution_count": 33,
     "metadata": {},
     "output_type": "execute_result"
    }
   ],
   "source": [
    "p2"
   ]
  },
  {
   "cell_type": "code",
   "execution_count": null,
   "metadata": {
    "collapsed": true
   },
   "outputs": [],
   "source": []
  }
 ],
 "metadata": {
  "kernelspec": {
   "display_name": "Python 3",
   "language": "python",
   "name": "python3"
  },
  "language_info": {
   "codemirror_mode": {
    "name": "ipython",
    "version": 3
   },
   "file_extension": ".py",
   "mimetype": "text/x-python",
   "name": "python",
   "nbconvert_exporter": "python",
   "pygments_lexer": "ipython3",
   "version": "3.6.6"
  }
 },
 "nbformat": 4,
 "nbformat_minor": 2
}
