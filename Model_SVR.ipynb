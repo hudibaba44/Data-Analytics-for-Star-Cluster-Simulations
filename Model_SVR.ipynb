{
 "cells": [
  {
   "cell_type": "code",
   "execution_count": 1,
   "metadata": {},
   "outputs": [],
   "source": [
    "import os\n",
    "import matplotlib.pyplot as plt\n",
    "from sklearn.svm import LinearSVR\n",
    "import pandas as pd\n",
    "import numpy as np\n",
    "from sklearn import svm\n",
    "os.chdir('/home/ninaad/cs-5thsem/data-analytics-for-star-cluster-simulations')\n",
    "df1=pd.read_csv(\"Dataset/c_0000.csv\")\n",
    "df2=pd.read_csv(\"Dataset/c_0100.csv\")\n",
    "df3=pd.read_csv(\"Dataset/c_0200.csv\")\n",
    "df4=pd.read_csv(\"Dataset/c_0300.csv\")\n",
    "df5=pd.read_csv(\"Dataset/c_0400.csv\")\n",
    "df6=pd.read_csv(\"Dataset/c_0500.csv\")\n",
    "df7=pd.read_csv(\"Dataset/c_0600.csv\")\n",
    "df8=pd.read_csv(\"Dataset/c_0700.csv\")\n",
    "df9=pd.read_csv(\"Dataset/c_0800.csv\")\n",
    "df10=pd.read_csv(\"Dataset/c_0900.csv\")\n",
    "df11=pd.read_csv(\"Dataset/c_1000.csv\")\n",
    "df12=pd.read_csv(\"Dataset/c_1100.csv\")\n",
    "df13=pd.read_csv(\"Dataset/c_1200.csv\")\n",
    "df14=pd.read_csv(\"Dataset/c_1300.csv\")\n",
    "df15=pd.read_csv(\"Dataset/c_1400.csv\")\n",
    "df16=pd.read_csv(\"Dataset/c_1500.csv\")\n",
    "df17=pd.read_csv(\"Dataset/c_1600.csv\")\n",
    "df18=pd.read_csv(\"Dataset/c_1700.csv\")\n",
    "df19=pd.read_csv(\"Dataset/c_1800.csv\")"
   ]
  },
  {
   "cell_type": "code",
   "execution_count": 2,
   "metadata": {},
   "outputs": [],
   "source": [
    "df19.columns\n",
    "distance_difference=[]\n",
    "distance_difference.append([(df1['x'][i]**2+df1['y'][i]**2+df1['z'][i]**2)**0.5 for i in range(len(df1))])\n",
    "distance_difference.append([(df2['x'][i]**2+df2['y'][i]**2+df2['z'][i]**2)**0.5 for i in range(len(df2))])\n",
    "distance_difference.append([(df3['x'][i]**2+df3['y'][i]**2+df3['z'][i]**2)**0.5 for i in range(len(df3))])\n",
    "distance_difference.append([(df4['x'][i]**2+df4['y'][i]**2+df4['z'][i]**2)**0.5 for i in range(len(df4))])\n",
    "distance_difference.append([(df5['x'][i]**2+df5['y'][i]**2+df5['z'][i]**2)**0.5 for i in range(len(df5))])\n",
    "distance_difference.append([(df6['x'][i]**2+df6['y'][i]**2+df6['z'][i]**2)**0.5 for i in range(len(df6))])\n",
    "distance_difference.append([(df7['x'][i]**2+df7['y'][i]**2+df7['z'][i]**2)**0.5 for i in range(len(df7))])\n",
    "distance_difference.append([(df8['x'][i]**2+df8['y'][i]**2+df8['z'][i]**2)**0.5 for i in range(len(df8))])\n",
    "distance_difference.append([(df9['x'][i]**2+df9['y'][i]**2+df9['z'][i]**2)**0.5 for i in range(len(df9))])\n",
    "distance_difference.append([(df10['x'][i]**2+df10['y'][i]**2+df10['z'][i]**2)**0.5 for i in range(len(df10))])\n",
    "distance_difference.append([(df11['x'][i]**2+df11['y'][i]**2+df11['z'][i]**2)**0.5 for i in range(len(df11))])\n",
    "distance_difference.append([(df12['x'][i]**2+df12['y'][i]**2+df12['z'][i]**2)**0.5 for i in range(len(df12))])\n",
    "distance_difference.append([(df13['x'][i]**2+df13['y'][i]**2+df13['z'][i]**2)**0.5 for i in range(len(df13))])\n",
    "distance_difference.append([(df14['x'][i]**2+df14['y'][i]**2+df14['z'][i]**2)**0.5 for i in range(len(df14))])\n",
    "distance_difference.append([(df15['x'][i]**2+df15['y'][i]**2+df15['z'][i]**2)**0.5 for i in range(len(df15))])\n",
    "distance_difference.append([(df16['x'][i]**2+df16['y'][i]**2+df16['z'][i]**2)**0.5 for i in range(len(df16))])\n",
    "distance_difference.append([(df17['x'][i]**2+df17['y'][i]**2+df17['z'][i]**2)**0.5 for i in range(len(df17))])\n",
    "distance_difference.append([(df18['x'][i]**2+df18['y'][i]**2+df18['z'][i]**2)**0.5 for i in range(len(df18))])\n",
    "distance_difference.append([(df19['x'][i]**2+df19['y'][i]**2+df19['z'][i]**2)**0.5 for i in range(len(df19))])"
   ]
  },
  {
   "cell_type": "code",
   "execution_count": 3,
   "metadata": {},
   "outputs": [],
   "source": [
    "def mad_based_outlier(points, thresh=3.5):\n",
    "    if len(points.shape) == 1:\n",
    "        points = points[:,None]\n",
    "    median = np.median(points, axis=0)\n",
    "    diff = np.sum((points - median)**2, axis=-1)\n",
    "    diff = np.sqrt(diff)\n",
    "    med_abs_deviation = np.median(diff)\n",
    "\n",
    "    modified_z_score = 0.6745 * diff / med_abs_deviation\n",
    "\n",
    "    return modified_z_score > thresh\n",
    "a=mad_based_outlier(np.array(distance_difference[0]))"
   ]
  },
  {
   "cell_type": "code",
   "execution_count": 6,
   "metadata": {},
   "outputs": [],
   "source": [
    "complete_dist=[]\n",
    "complete_id=[]\n",
    "complete_id+=list(df1['id'])+list(df2['id'])+list(df3['id'])+list(df4['id'])+list(df5['id'])+list(df6['id'])+list(df7['id'])+list(df8['id'])+list(df9['id'])+list(df10['id'])+list(df11['id'])+list(df12['id'])+list(df13['id'])+list(df14['id'])+list(df15['id'])+list(df16['id'])+list(df17['id'])+list(df18['id'])\n",
    "#+list(df19['id'])\n",
    "for i in range(18):\n",
    "    complete_dist+=distance_difference[i]"
   ]
  },
  {
   "cell_type": "code",
   "execution_count": 7,
   "metadata": {},
   "outputs": [],
   "source": [
    "a=mad_based_outlier(np.array(complete_dist))\n",
    "y_test=mad_based_outlier(np.array(distance_difference[-1]))"
   ]
  },
  {
   "cell_type": "code",
   "execution_count": 8,
   "metadata": {},
   "outputs": [],
   "source": [
    "a\n",
    "y=[]\n",
    "for i in a:\n",
    "    if(i==False):\n",
    "        y.append(0)\n",
    "    else:\n",
    "        y.append(1)\n",
    "y=np.array(y)"
   ]
  },
  {
   "cell_type": "code",
   "execution_count": 9,
   "metadata": {},
   "outputs": [
    {
     "data": {
      "text/plain": [
       "LinearSVR(C=1.0, dual=True, epsilon=0.0, fit_intercept=True,\n",
       "     intercept_scaling=1.0, loss='epsilon_insensitive', max_iter=1000,\n",
       "     random_state=0, tol=0.0001, verbose=0)"
      ]
     },
     "execution_count": 9,
     "metadata": {},
     "output_type": "execute_result"
    }
   ],
   "source": [
    "X=[[complete_dist[i],complete_id[i]] for i in range(len(complete_dist))]\n",
    "x_test=[[distance_difference[-1][i],df19['id'][i]] for i in range(len(df19))]\n",
    "X=np.array(X)\n",
    "std=np.std(distance_difference[0])\n",
    "\n",
    "model=LinearSVR(random_state=0)\n",
    "model.fit(X,y)\n",
    "#model.score(distance_difference[0],df1['x'])\n",
    "#predicted= model.predict(x_test)\n"
   ]
  },
  {
   "cell_type": "code",
   "execution_count": 10,
   "metadata": {},
   "outputs": [
    {
     "data": {
      "text/plain": [
       "0.4027059138504556"
      ]
     },
     "execution_count": 10,
     "metadata": {},
     "output_type": "execute_result"
    }
   ],
   "source": [
    "model.score(X,np.array(a))"
   ]
  },
  {
   "cell_type": "code",
   "execution_count": 11,
   "metadata": {},
   "outputs": [],
   "source": [
    "p=model.predict(x_test)"
   ]
  },
  {
   "cell_type": "code",
   "execution_count": null,
   "metadata": {},
   "outputs": [],
   "source": [
    "count=0\n",
    "for i in p:\n",
    "    if(i>0.5):\n",
    "        count+=1"
   ]
  },
  {
   "cell_type": "code",
   "execution_count": 16,
   "metadata": {},
   "outputs": [],
   "source": [
    "p\n",
    "yt=[]\n",
    "for i in y_test:\n",
    "    if(i==False):\n",
    "        yt.append(0)\n",
    "    else:\n",
    "        yt.append(1)\n",
    "yt=np.array(yt)"
   ]
  },
  {
   "cell_type": "code",
   "execution_count": 23,
   "metadata": {},
   "outputs": [
    {
     "name": "stdout",
     "output_type": "stream",
     "text": [
      "0.9534938252305768\n"
     ]
    }
   ],
   "source": [
    "from sklearn.metrics import accuracy_score\n",
    "print(accuracy_score(yt,p.round()))"
   ]
  },
  {
   "cell_type": "markdown",
   "metadata": {},
   "source": [
    "## Analysis \n",
    "#### A linear Support Vector Regression Model was built to classify a particular star in the cluster as present in the cluster or not.(0 to indicate whether it is inside the cluster and 1 to indicate that it is not in the cluster. Since there is no label in the data set that gives whether a particular star is in the cluster or not, all the outliers for the dataset were marked as not belonging to the cluster in the test and train data set(df1-df18 is train and df19 is test).\n",
    "##### The support vector regression was done considering the magnitude of the distance from the origin and the id of the star as the parameter for the model. The model has an accuracy of 95% since most of the points in the test dataset i.e. in df19 are within the cluster.\n"
   ]
  },
  {
   "cell_type": "code",
   "execution_count": null,
   "metadata": {},
   "outputs": [],
   "source": []
  }
 ],
 "metadata": {
  "kernelspec": {
   "display_name": "Python 3",
   "language": "python",
   "name": "python3"
  },
  "language_info": {
   "codemirror_mode": {
    "name": "ipython",
    "version": 3
   },
   "file_extension": ".py",
   "mimetype": "text/x-python",
   "name": "python",
   "nbconvert_exporter": "python",
   "pygments_lexer": "ipython3",
   "version": "3.6.6"
  }
 },
 "nbformat": 4,
 "nbformat_minor": 2
}
